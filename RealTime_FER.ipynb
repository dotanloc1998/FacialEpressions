{
 "cells": [
  {
   "cell_type": "code",
   "execution_count": 1,
   "metadata": {},
   "outputs": [
    {
     "name": "stderr",
     "output_type": "stream",
     "text": [
      "Using TensorFlow backend.\n"
     ]
    }
   ],
   "source": [
    "import numpy as np\n",
    "import cv2\n",
    "from keras.models import load_model\n",
    "import pyttsx3"
   ]
  },
  {
   "cell_type": "code",
   "execution_count": 11,
   "metadata": {},
   "outputs": [],
   "source": [
    "modelPath = \"D:/DataForPython/FacialEpressions/Facial_Epressions_model.h5\"\n",
    "model = load_model(modelPath)\n",
    "# prevents openCL usage and unnecessary logging messages\n",
    "cv2.ocl.setUseOpenCL(False)\n",
    "# dictionary which assigns each label an emotion (alphabetical order)\n",
    "emotion_dict = {0: \"Angry\", 1: \"Disgust\", 2: \"Fear\", 3: \"Happy\", 4: \"Sad\", 5: \"Surprise\", 6: \"Neutral\"}\n",
    "# start the webcam feed\n",
    "cap = cv2.VideoCapture(0)\n",
    "engine = pyttsx3.init()\n",
    "voices = engine.getProperty('voices')\n",
    "engine.setProperty('voice', voices[1].id) #Female voice\n",
    "while True:\n",
    "    # Find haar cascade to draw bounding box around face\n",
    "    ret, frame = cap.read()\n",
    "    if not ret:\n",
    "        break\n",
    "    font = cv2.FONT_HERSHEY_SIMPLEX\n",
    "    cv2.putText(frame, \"Press SPACE: FOR EMOTION\", (5,470), font, 0.7, (38, 165, 255), 2, cv2.LINE_AA)\n",
    "    cv2.putText(frame, \"Press Q: To Quit\", (460,470), font, 0.7, (255, 0, 0), 2, cv2.LINE_AA)\n",
    "    facecasc = cv2.CascadeClassifier('haarcascade_frontalface_default.xml')\n",
    "    gray = cv2.cvtColor(frame, cv2.COLOR_BGR2GRAY)\n",
    "    faces = facecasc.detectMultiScale(gray,scaleFactor=1.3, minNeighbors=5)\n",
    "    \n",
    "    for (x, y, w, h) in faces:\n",
    "        cv2.rectangle(frame, (x, y-50), (x+w, y+h+10), (255, 0, 0), 2)\n",
    "        roi_gray = gray[y:y + h, x:x + w]        \n",
    "        cropped_img = np.expand_dims(np.expand_dims(cv2.resize(roi_gray,(48, 48)), -1), 0)\n",
    "        cropped_img = cropped_img/255.\n",
    "        prediction = model.predict(cropped_img)\n",
    "        maxindex = int(np.argmax(prediction))\n",
    "        cv2.putText(frame, emotion_dict[maxindex], (x+20, y-60), font, 1, (255, 255, 255), 2, cv2.LINE_AA)\n",
    "        \n",
    "        if cv2.waitKey(1) == ord(' '):\n",
    "            if maxindex == 0:\n",
    "                engine.say(\"Chill my friend,don't be mad\")\n",
    "                engine.runAndWait()\n",
    "            elif maxindex == 1:\n",
    "                engine.say(\"Ew,gross!\")\n",
    "                engine.runAndWait()\n",
    "            elif maxindex == 2:\n",
    "                engine.say(\"Fear me human\")\n",
    "                engine.runAndWait()\n",
    "            elif maxindex == 3:\n",
    "                engine.say(\"Be healthy and happy\")\n",
    "                engine.runAndWait()\n",
    "            elif maxindex == 4:\n",
    "                engine.say(\"Cheer up my friend\")\n",
    "                engine.runAndWait()\n",
    "            elif maxindex == 5:\n",
    "                engine.say(\"Surprise mother fucker\")\n",
    "                engine.runAndWait()\n",
    "            else:                \n",
    "                engine.say(\"Experience tranquility\")\n",
    "                engine.runAndWait()\n",
    "        \n",
    "    cv2.imshow('Video', cv2.resize(frame,(1600,960),interpolation = cv2.INTER_CUBIC))\n",
    "    if cv2.waitKey(1) == ord('q'):\n",
    "        cap.release()\n",
    "        cv2.destroyAllWindows()\n",
    "        break"
   ]
  },
  {
   "cell_type": "code",
   "execution_count": null,
   "metadata": {},
   "outputs": [],
   "source": []
  }
 ],
 "metadata": {
  "kernelspec": {
   "display_name": "Python 3",
   "language": "python",
   "name": "python3"
  },
  "language_info": {
   "codemirror_mode": {
    "name": "ipython",
    "version": 3
   },
   "file_extension": ".py",
   "mimetype": "text/x-python",
   "name": "python",
   "nbconvert_exporter": "python",
   "pygments_lexer": "ipython3",
   "version": "3.7.6"
  }
 },
 "nbformat": 4,
 "nbformat_minor": 4
}
